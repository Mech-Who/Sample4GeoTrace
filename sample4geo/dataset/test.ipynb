{
 "cells": [
  {
   "cell_type": "code",
   "execution_count": 6,
   "metadata": {},
   "outputs": [
    {
     "name": "stdout",
     "output_type": "stream",
     "text": [
      "8\n",
      "idx: 169626\n",
      "query_img_name: 169626_422358_4681407.jpg\n",
      "ref_img_name: 422435_4681277_300_32616.jpg\n",
      "click_pt: (200, 111)\n",
      "bbox: [175.4112000000477, 76.80000000000001, 540.2624000000955, 890.8458666674296]\n",
      "label: building_industrial\n"
     ]
    }
   ],
   "source": [
    "from pathlib import Path\n",
    "\n",
    "import torch\n",
    "from torch.utils.data import Dataset\n",
    "\n",
    "class Dataset():\n",
    "    def __init__(self, data_folder, data_name,\n",
    "                 transforms_query=None,\n",
    "                 transforms_reference=None,\n",
    "                 prob_flip=0.0,\n",
    "                 prob_rotate=0.0,\n",
    "                 shuffle_batch_size=128):\n",
    "        self.data_folder = data_folder\n",
    "        self.data_name = data_name\n",
    "\n",
    "        self.train_file = Path(data_folder) / data_name / f'{data_name}_train.pth'\n",
    "        self.data_list = torch.load(self.train_file)\n",
    "\n",
    "        # id, query_img_name, ref_img_name, _, point, bbox, _, label\n",
    "        print(len(self.data_list[0]))\n",
    "        idx, query_img_name, ref_img_name, _, click_pt, bbox, _, label = self.data_list[0]\n",
    "        print(f\"idx: {idx}\")\n",
    "        print(f\"query_img_name: {query_img_name}\")\n",
    "        print(f\"ref_img_name: {ref_img_name}\")\n",
    "        print(f\"click_pt: {click_pt}\")\n",
    "        print(f\"bbox: {bbox}\")\n",
    "        print(f\"label: {label}\")\n",
    "\n",
    "dataset = Dataset('D:/Project/Reproduction/Datasets/CVOGL', 'CVOGL_DroneAerial')\n"
   ]
  },
  {
   "cell_type": "code",
   "execution_count": null,
   "metadata": {},
   "outputs": [],
   "source": [
    "(\n",
    "    169626, \n",
    "    '169626_422358_4681407.jpg', \n",
    "    '422435_4681277_300_32616.jpg', \n",
    "    (400, 222), \n",
    "    (200, 111),\n",
    "    [175.4112000000477, \n",
    "     76.80000000000001, \n",
    "     540.2624000000955, \n",
    "     890.8458666674296], \n",
    "     [276.27520000000794, \n",
    "     76.80000000000001, \n",
    "     540.2624000000955, \n",
    "     110.93333333333334, \n",
    "     439.4325333333016, \n",
    "     890.8458666674296, \n",
    "     175.4112000000477, \n",
    "     856.7125333340963]\n",
    "    'building_industrial')"
   ]
  }
 ],
 "metadata": {
  "kernelspec": {
   "display_name": "pytorch-cpu",
   "language": "python",
   "name": "python3"
  },
  "language_info": {
   "codemirror_mode": {
    "name": "ipython",
    "version": 3
   },
   "file_extension": ".py",
   "mimetype": "text/x-python",
   "name": "python",
   "nbconvert_exporter": "python",
   "pygments_lexer": "ipython3",
   "version": "3.10.14"
  }
 },
 "nbformat": 4,
 "nbformat_minor": 2
}
